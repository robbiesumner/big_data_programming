{
 "cells": [
  {
   "cell_type": "markdown",
   "metadata": {},
   "source": [
    "# PageRank-Algorithmus\n",
    "\n",
    "Der PageRank-Algorithmus ist ein Verfahren zur Bewertung und Rangfolge von Webseiten in Suchmaschinen, insbesondere von Google. Der Algorithmus wurde von Larry Page und Sergey Brin, den Gründern von Google, entwickelt. PageRank ist ein wichtiger Faktor, der bestimmt, wie Webseiten in den Suchergebnissen von Suchmaschinen erscheinen.\n",
    "\n",
    "### Grundidee\n",
    "Die Grundidee von PageRank ist, dass die Wichtigkeit einer Webseite anhand der Anzahl und Qualität der Links, die auf sie verweisen, bewertet wird. Webseiten, die von vielen anderen wichtigen Webseiten verlinkt werden, gelten als wichtiger.\n",
    "\n"
   ]
  },
  {
   "cell_type": "code",
   "execution_count": null,
   "metadata": {},
   "outputs": [],
   "source": [
    "# Importieren der erforderlichen Bibliotheken\n",
    "import numpy as np"
   ]
  },
  {
   "cell_type": "code",
   "execution_count": null,
   "metadata": {},
   "outputs": [],
   "source": [
    "webseiten_verbindungen = np.array([[0, 1, 1, 0],  # Seite A\n",
    "                                  [1, 0, 1, 0],  # Seite B\n",
    "                                  [0, 0, 0, 1],  # Seite C\n",
    "                                  [0, 0, 1, 0]]) # Seite D"
   ]
  },
  {
   "cell_type": "markdown",
   "metadata": {},
   "source": [
    "\n",
    "![](https://upload.wikimedia.org/wikipedia/commons/f/fb/PageRanks-Example.svg)\n",
    "Hier erhalten Webseiten, auf die mehrere Links führen, eine höhere Relevanz als solche mit weniger direkten Verlinkungen."
   ]
  },
  {
   "cell_type": "code",
   "execution_count": null,
   "metadata": {},
   "outputs": [],
   "source": [
    "# Die Webseitenanzahl\n",
    "anzahl_webseiten = webseiten_verbindungen.shape[0]\n",
    "\n",
    "# Den Dämpfungsfaktor (typischerweise 0,85 in der Praxis)\n",
    "dämpfungsfaktor = 0.85\n",
    "\n",
    "# Initialisieren des PageRank-Vektors mit gleicher Wahrscheinlichkeit für alle Seiten\n",
    "page_rank = np.ones(anzahl_webseiten) / anzahl_webseiten\n",
    "\n",
    "# Anzahl der Iterationen\n",
    "anzahl_iterationen = 10"
   ]
  },
  {
   "cell_type": "markdown",
   "metadata": {},
   "source": [
    "### Schritte des Algorithmus\n",
    "\n",
    "Der PageRank-Algorithmus durchläuft mehrere Schritte:\n",
    "\n",
    "Initialisierung: Jede Webseite wird zu Beginn mit einem gleichen PageRank-Wert initialisiert.\n",
    "\n",
    "Berechnung des PageRank: In mehreren Iterationen wird der PageRank für jede Webseite aktualisiert. Dies geschieht, indem der PageRank von verlinkenden Seiten auf die Zielseite übertragen wird. Wichtige Seiten tragen mehr zum PageRank bei.\n",
    "\n",
    "Dämpfungsfaktor: PageRank berücksichtigt einen Dämpfungsfaktor, der das Verhalten von Surfern im Internet simuliert. Dieser Faktor drückt aus, wie wahrscheinlich es ist, dass ein Surfer auf einer Seite bleibt oder zu einer anderen Seite springt."
   ]
  },
  {
   "cell_type": "code",
   "execution_count": null,
   "metadata": {},
   "outputs": [],
   "source": [
    "for iteration in range(anzahl_iterationen):\n",
    "    neuer_page_rank = (1 - dämpfungsfaktor) / anzahl_webseiten + dämpfungsfaktor * np.dot(webseiten_verbindungen.T, page_rank)\n",
    "    page_rank = neuer_page_rank"
   ]
  },
  {
   "cell_type": "code",
   "execution_count": null,
   "metadata": {},
   "outputs": [],
   "source": [
    "for i, score in enumerate(page_rank):\n",
    "    print(f\"Webseite {chr(65 + i)}: PageRank-Wert = {score:.4f}\")"
   ]
  }
 ],
 "metadata": {
  "kernelspec": {
   "display_name": "Python 3.11.4 64-bit",
   "language": "python",
   "name": "python3"
  },
  "language_info": {
   "name": "python",
   "version": "3.11.4"
  },
  "orig_nbformat": 4,
  "vscode": {
   "interpreter": {
    "hash": "b0fa6594d8f4cbf19f97940f81e996739fb7646882a419484c72d19e05852a7e"
   }
  }
 },
 "nbformat": 4,
 "nbformat_minor": 2
}
