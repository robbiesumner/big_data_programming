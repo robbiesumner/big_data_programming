{
 "cells": [
  {
   "cell_type": "markdown",
   "metadata": {},
   "source": [
    "# Gradient Descent\n",
    "\n",
    "Gradient Descent ist ein Optimierungsalgorithmus, der in vielen maschinellen Lern- und Optimierungsproblemen eingesetzt wird. Seine Hauptaufgabe besteht darin, ein lokales Minimum einer Funktion zu finden, typischerweise in einem mehrdimensionalen Raum.\n",
    "\n",
    "### Grundidee:\n",
    "\n",
    "Stell dir vor, du stehst auf einem Berggipfel und möchtest den tiefsten Punkt im Tal erreichen, ohne eine Karte zu haben. Du kannst jedoch spüren, in welche Richtung der Boden am steilsten abfällt. Du möchtest den Weg finden, der dich am schnellsten ins Tal führt. Gradient Descent ist wie das Absteigen des Berges, indem du den steilsten Abstiegspfad nimmst."
   ]
  },
  {
   "cell_type": "code",
   "execution_count": null,
   "metadata": {},
   "outputs": [],
   "source": [
    "%pip install numpy"
   ]
  },
  {
   "cell_type": "markdown",
   "metadata": {},
   "source": [
    "## Schritte des Gradient Descent:\n",
    "\n",
    "1. Initialisierung"
   ]
  },
  {
   "cell_type": "code",
   "execution_count": null,
   "metadata": {},
   "outputs": [],
   "source": [
    "import numpy as np\n",
    "\n",
    "# Generate some random data points for demonstration\n",
    "np.random.seed(0)\n",
    "X = 2 * np.random.rand(100, 1)\n",
    "y = 4 + 3 * X + np.random.randn(100, 1)\n",
    "\n",
    "# Number of iterations and learning rate\n",
    "iterations = 1000\n",
    "learning_rate = 0.1\n",
    "\n",
    "# Initial values for the slope (theta0) and intercept (theta1)\n",
    "theta0 = np.random.randn()\n",
    "theta1 = np.random.randn()"
   ]
  },
  {
   "cell_type": "markdown",
   "metadata": {},
   "source": [
    "2. Berechnung des Gradienten\n",
    "\n",
    "Der Gradient ist ein Vektor, der die Richtung des steilsten Anstiegs (anstelle des Abstiegs) in einem mehrdimensionalen Raum angibt. In einfachen Worten ist der Gradient eine Liste von Ableitungen, die für jede Variable angeben, wie stark die Funktion in diese Richtung steigt. Der Gradient wird am aktuellen Standpunkt berechnet."
   ]
  },
  {
   "cell_type": "code",
   "execution_count": null,
   "metadata": {},
   "outputs": [],
   "source": [
    "# Calculate the predicted values\n",
    "y_pred = theta0 + theta1 * X\n",
    "    \n",
    "# Calculate the gradients (partial derivatives) with respect to the cost function\n",
    "gradient_theta0 = np.sum(y_pred - y)\n",
    "gradient_theta1 = np.sum((y_pred - y) * X)"
   ]
  },
  {
   "cell_type": "markdown",
   "metadata": {},
   "source": [
    "3. Bewegung in die Abstiegsrichtung & Aktualisierung"
   ]
  },
  {
   "cell_type": "code",
   "execution_count": null,
   "metadata": {},
   "outputs": [],
   "source": [
    " # Update the parameters using the gradients and learning rate\n",
    "theta0 = theta0 - learning_rate * gradient_theta0\n",
    "theta1 = theta1 - learning_rate * gradient_theta1"
   ]
  },
  {
   "cell_type": "markdown",
   "metadata": {},
   "source": [
    "5. Wiederholung --> Iterativer Algorithmus:"
   ]
  },
  {
   "cell_type": "code",
   "execution_count": null,
   "metadata": {},
   "outputs": [],
   "source": [
    "for iteration in range(iterations):\n",
    "    # Calculate the predicted values\n",
    "    y_pred = theta0 + theta1 * X\n",
    "    \n",
    "    # Calculate the gradients (partial derivatives) with respect to the cost function\n",
    "    gradient_theta0 = np.sum(y_pred - y)\n",
    "    gradient_theta1 = np.sum((y_pred - y) * X)\n",
    "    \n",
    "    # Update the parameters using the gradients and learning rate\n",
    "    theta0 = theta0 - learning_rate * gradient_theta0\n",
    "    theta1 = theta1 - learning_rate * gradient_theta1\n",
    "\n",
    "print(\"Final theta0:\", theta0)\n",
    "print(\"Final theta1:\", theta1)\n"
   ]
  }
 ],
 "metadata": {
  "kernelspec": {
   "display_name": "Python 3.11.4 64-bit",
   "language": "python",
   "name": "python3"
  },
  "language_info": {
   "codemirror_mode": {
    "name": "ipython",
    "version": 3
   },
   "file_extension": ".py",
   "mimetype": "text/x-python",
   "name": "python",
   "nbconvert_exporter": "python",
   "pygments_lexer": "ipython3",
   "version": "3.11.4"
  },
  "orig_nbformat": 4,
  "vscode": {
   "interpreter": {
    "hash": "b0fa6594d8f4cbf19f97940f81e996739fb7646882a419484c72d19e05852a7e"
   }
  }
 },
 "nbformat": 4,
 "nbformat_minor": 2
}
